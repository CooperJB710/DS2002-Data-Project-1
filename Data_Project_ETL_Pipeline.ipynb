{
  "nbformat": 4,
  "nbformat_minor": 0,
  "metadata": {
    "colab": {
      "provenance": [],
      "authorship_tag": "ABX9TyOeajkTajh2UV/5NOOZvavT",
      "include_colab_link": true
    },
    "kernelspec": {
      "name": "python3",
      "display_name": "Python 3"
    },
    "language_info": {
      "name": "python"
    }
  },
  "cells": [
    {
      "cell_type": "markdown",
      "metadata": {
        "id": "view-in-github",
        "colab_type": "text"
      },
      "source": [
        "<a href=\"https://colab.research.google.com/github/CooperJB710/DS2002-Data-Project-1/blob/main/Data_Project_ETL_Pipeline.ipynb\" target=\"_parent\"><img src=\"https://colab.research.google.com/assets/colab-badge.svg\" alt=\"Open In Colab\"/></a>"
      ]
    },
    {
      "cell_type": "code",
      "execution_count": null,
      "metadata": {
        "id": "VaG3mHyNPojJ"
      },
      "outputs": [],
      "source": [
        "!pip install mysql-connector-python"
      ]
    },
    {
      "cell_type": "code",
      "source": [
        "import sys\n",
        "import requests\n",
        "import pandas as pd\n",
        "import numpy as np\n",
        "import matplotlib.pyplot as plt\n",
        "import mysql.connector"
      ],
      "metadata": {
        "id": "TU2y5bzTSE8w"
      },
      "execution_count": null,
      "outputs": []
    },
    {
      "cell_type": "code",
      "source": [
        "url = \"\""
      ],
      "metadata": {
        "id": "bDIfF2dlSG1N"
      },
      "execution_count": null,
      "outputs": []
    },
    {
      "cell_type": "code",
      "source": [
        "def extract_cdc_vaccination_data():\n",
        "    \"\"\"Fetch CDC COVID-19 vaccination data as JSON -> DataFrame.\"\"\"\n",
        "    querystring = {}\n",
        "    headers = {}\n",
        "    try:\n",
        "        response = requests.request(\"GET\", url, headers=headers, params=querystring, timeout=30)\n",
        "        response.raise_for_status()\n",
        "        data_json = response.json()\n",
        "    except requests.exceptions.RequestException as e:\n",
        "        print(\"ERROR: Could not retrieve CDC data. Detail:\", e)\n",
        "        sys.exit(1)\n",
        "    df = pd.DataFrame(data_json)\n",
        "    return df\n"
      ],
      "metadata": {
        "id": "3iKfdQcgSItC"
      },
      "execution_count": null,
      "outputs": []
    },
    {
      "cell_type": "code",
      "source": [
        "def load_census_population_data(csv_path):\n",
        "    \"\"\"Load local U.S. Census population data from CSV -> DataFrame.\"\"\"\n",
        "    try:\n",
        "        df = pd.read_csv(csv_path)\n",
        "    except FileNotFoundError:\n",
        "        print(f\"ERROR: File not found -> {csv_path}\")\n",
        "        sys.exit(1)\n",
        "    except pd.errors.ParserError as e:\n",
        "        print(\"ERROR: Parse error in CSV. Detail:\", e)\n",
        "        sys.exit(1)\n",
        "    except Exception as e:\n",
        "        print(\"ERROR: Unknown error reading CSV. Detail:\", e)\n",
        "        sys.exit(1)\n",
        "    return df"
      ],
      "metadata": {
        "id": "6R46-eqZSQWv"
      },
      "execution_count": null,
      "outputs": []
    },
    {
      "cell_type": "code",
      "source": [
        "def transform_data(df_cdc, df_census):\n",
        "    \"\"\"Clean, transform, and merge CDC + Census data on state-level info.\"\"\"\n",
        "    df_cdc = df_cdc.rename(columns={\n",
        "        \"recip_state\": \"StateAbbrev\",\n",
        "        \"series_complete_yes\": \"Series_Complete\"\n",
        "    })\n",
        "    df_cdc[\"Series_Complete\"] = pd.to_numeric(df_cdc[\"Series_Complete\"], errors=\"coerce\")\n",
        "    df_cdc_agg = df_cdc.groupby(\"StateAbbrev\", as_index=False).agg({\"Series_Complete\": \"sum\"})\n",
        "    df_cdc_agg = df_cdc_agg.rename(columns={\"Series_Complete\": \"Total_Vaccinated\"})\n",
        "\n",
        "    df_census = df_census.rename(columns={\n",
        "        \"STATE_ABBR_COL\": \"StateAbbrev\",\n",
        "        \"POP_COL\": \"Population\"\n",
        "    })\n",
        "    df_census[\"Population\"] = pd.to_numeric(df_census[\"Population\"], errors=\"coerce\")\n",
        "    df_census = df_census.dropna(subset=[\"Population\",\"StateAbbrev\"])\n",
        "\n",
        "    df_merged = pd.merge(df_cdc_agg, df_census, on=\"StateAbbrev\", how=\"inner\")\n",
        "    df_merged[\"Vaccination_Rate\"] = df_merged[\"Total_Vaccinated\"] / df_merged[\"Population\"] * 100.0\n",
        "    return df_merged"
      ],
      "metadata": {
        "id": "frW30CtZSSVj"
      },
      "execution_count": null,
      "outputs": []
    },
    {
      "cell_type": "code",
      "source": [
        "def analyze_data(df_merged):\n",
        "    \"\"\"Display stats and plot a sample bar chart.\"\"\"\n",
        "    print(\"Records:\", len(df_merged), \"| Columns:\", len(df_merged.columns))\n",
        "    print(df_merged.head())\n",
        "    print(df_merged[[\"Total_Vaccinated\",\"Population\",\"Vaccination_Rate\"]].describe())\n",
        "\n",
        "    df_sorted = df_merged.sort_values(\"Vaccination_Rate\", ascending=False).head(10)\n",
        "    plt.figure(figsize=(10,6))\n",
        "    plt.bar(df_sorted[\"StateAbbrev\"], df_sorted[\"Vaccination_Rate\"])\n",
        "    plt.title(\"Top 10 States by Vaccination Rate\")\n",
        "    plt.xlabel(\"State\")\n",
        "    plt.ylabel(\"Vaccination Rate (%)\")\n",
        "    plt.tight_layout()\n",
        "    plt.savefig(\"top_10_states_vax_rate.png\")\n",
        "    print(\"Saved chart: top_10_states_vax_rate.png\")"
      ],
      "metadata": {
        "id": "DSLNoHZvSULu"
      },
      "execution_count": null,
      "outputs": []
    },
    {
      "cell_type": "code",
      "source": [
        "def store_data_in_mysql(final_df):\n",
        "    \"\"\"Create table in MySQL and insert final data.\"\"\"\n",
        "    try:\n",
        "        connection = mysql.connector.connect(\n",
        "            host=\"localhost\",\n",
        "            user=\"root\",\n",
        "            password=\"YOUR_PASSWORD_HERE\",\n",
        "            database=\"YOUR_DATABASE_HERE\"\n",
        "        )\n",
        "        cursor = connection.cursor()\n",
        "    except mysql.connector.Error as err:\n",
        "        print(\"ERROR: MySQL connection failed. Detail:\", err)\n",
        "        sys.exit(1)\n",
        "\n",
        "    create_tbl = \"\"\"\n",
        "        CREATE TABLE IF NOT EXISTS covid_vaccination_data (\n",
        "            id INT AUTO_INCREMENT PRIMARY KEY,\n",
        "            state_abbrev VARCHAR(10),\n",
        "            total_vaccinated DOUBLE,\n",
        "            population DOUBLE,\n",
        "            vaccination_rate DOUBLE\n",
        "        );\n",
        "    \"\"\"\n",
        "    try:\n",
        "        cursor.execute(\"DROP TABLE IF EXISTS covid_vaccination_data;\")\n",
        "        cursor.execute(create_tbl)\n",
        "    except mysql.connector.Error as err:\n",
        "        print(\"ERROR: Table creation failed. Detail:\", err)\n",
        "        connection.close()\n",
        "        sys.exit(1)\n",
        "\n",
        "    insert_q = \"\"\"\n",
        "        INSERT INTO covid_vaccination_data\n",
        "        (state_abbrev, total_vaccinated, population, vaccination_rate)\n",
        "        VALUES (%s, %s, %s, %s);\n",
        "    \"\"\"\n",
        "    records = []\n",
        "    for _, row in final_df.iterrows():\n",
        "        records.append((\n",
        "            row[\"StateAbbrev\"],\n",
        "            row[\"Total_Vaccinated\"] if not pd.isna(row[\"Total_Vaccinated\"]) else None,\n",
        "            row[\"Population\"] if not pd.isna(row[\"Population\"]) else None,\n",
        "            row[\"Vaccination_Rate\"] if not pd.isna(row[\"Vaccination_Rate\"]) else None\n",
        "        ))\n",
        "    try:\n",
        "        cursor.executemany(insert_q, records)\n",
        "        connection.commit()\n",
        "        print(\"Inserted:\", cursor.rowcount, \"rows.\")\n",
        "    except mysql.connector.Error as err:\n",
        "        print(\"ERROR: Insertion failed. Detail:\", err)\n",
        "        connection.close()\n",
        "        sys.exit(1)\n",
        "\n",
        "    cursor.close()\n",
        "    connection.close()"
      ],
      "metadata": {
        "id": "QNk3SLFNSXOW"
      },
      "execution_count": null,
      "outputs": []
    },
    {
      "cell_type": "code",
      "source": [
        "def main():\n",
        "    print(\"Extracting from CDC API...\")\n",
        "    df_cdc = extract_cdc_vaccination_data()\n",
        "\n",
        "    print(\"Loading Census CSV...\")\n",
        "    csv_path = \"path/to/us_census_population_data.csv\"  # Replace with real path\n",
        "    df_census = load_census_population_data(csv_path)\n",
        "\n",
        "    print(\"Transforming & merging data...\")\n",
        "    df_merged = transform_data(df_cdc, df_census)\n",
        "\n",
        "    analyze_data(df_merged)\n",
        "\n",
        "    print(\"Storing in MySQL...\")\n",
        "    store_data_in_mysql(df_merged)\n",
        "\n",
        "    print(\"ETL complete.\")\n",
        "\n",
        "if __name__ == \"__main__\":\n",
        "    main()"
      ],
      "metadata": {
        "id": "bnebWDdMSdhG"
      },
      "execution_count": null,
      "outputs": []
    }
  ]
}