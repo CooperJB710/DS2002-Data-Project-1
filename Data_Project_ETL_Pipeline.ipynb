{
  "nbformat": 4,
  "nbformat_minor": 0,
  "metadata": {
    "colab": {
      "provenance": [],
      "authorship_tag": "ABX9TyM7i4tHql526Jlx/RvdnEEX",
      "include_colab_link": true
    },
    "kernelspec": {
      "name": "python3",
      "display_name": "Python 3"
    },
    "language_info": {
      "name": "python"
    }
  },
  "cells": [
    {
      "cell_type": "markdown",
      "metadata": {
        "id": "view-in-github",
        "colab_type": "text"
      },
      "source": [
        "<a href=\"https://colab.research.google.com/github/CooperJB710/DS2002-Data-Project-1/blob/main/Data_Project_ETL_Pipeline.ipynb\" target=\"_parent\"><img src=\"https://colab.research.google.com/assets/colab-badge.svg\" alt=\"Open In Colab\"/></a>"
      ]
    },
    {
      "cell_type": "code",
      "execution_count": null,
      "metadata": {
        "id": "VaG3mHyNPojJ"
      },
      "outputs": [],
      "source": [
        "!pip install mysql-connector-python"
      ]
    },
    {
      "cell_type": "code",
      "source": [
        "import sys\n",
        "import requests\n",
        "import pandas as pd\n",
        "import numpy as np\n",
        "import matplotlib.pyplot as plt\n",
        "import mysql.connector"
      ],
      "metadata": {
        "id": "TU2y5bzTSE8w"
      },
      "execution_count": null,
      "outputs": []
    },
    {
      "cell_type": "code",
      "source": [
        "url = \"\""
      ],
      "metadata": {
        "id": "bDIfF2dlSG1N"
      },
      "execution_count": null,
      "outputs": []
    },
    {
      "cell_type": "code",
      "source": [
        "def extract_cdc_vaccination_data():\n",
        "    \"\"\"Pull county-level CDC data with offset-based paging.\"\"\"\n",
        "    chunk_size = 50000\n",
        "    offset = 0\n",
        "    all_rows = []\n",
        "    while True:\n",
        "        params = {\n",
        "            '$limit': chunk_size,\n",
        "            '$offset': offset\n",
        "        }\n",
        "        try:\n",
        "            r = requests.get(url, params=params, timeout=30)\n",
        "            r.raise_for_status()\n",
        "            data_chunk = r.json()\n",
        "        except requests.exceptions.RequestException as e:\n",
        "            print(\"ERROR: CDC fetch failed.\", e)\n",
        "            break\n",
        "        if not data_chunk:\n",
        "            break\n",
        "        all_rows.extend(data_chunk)\n",
        "        offset += chunk_size\n",
        "    return pd.DataFrame(all_rows)"
      ],
      "metadata": {
        "id": "3iKfdQcgSItC"
      },
      "execution_count": null,
      "outputs": []
    },
    {
      "cell_type": "code",
      "source": [
        "def load_census_population_data(csv_path):\n",
        "    \"\"\"Load county-level census data from CSV.\"\"\"\n",
        "    try:\n",
        "        return pd.read_csv(csv_path)\n",
        "    except FileNotFoundError:\n",
        "        print(f\"ERROR: File not found -> {csv_path}\")\n",
        "        sys.exit(1)\n",
        "    except pd.errors.ParserError as e:\n",
        "        print(\"ERROR: CSV parse error.\", e)\n",
        "        sys.exit(1)\n",
        "    except Exception as e:\n",
        "        print(\"ERROR: Unknown read error.\", e)\n",
        "        sys.exit(1)"
      ],
      "metadata": {
        "id": "6R46-eqZSQWv"
      },
      "execution_count": null,
      "outputs": []
    },
    {
      "cell_type": "code",
      "source": [
        "def transform_data(df_cdc, df_census):\n",
        "    \"\"\"Clean, transform, and merge CDC + Census data on county/state info.\"\"\"\n",
        "    for col in ['series_complete_pop_pct','census2019']:\n",
        "        if col in df_cdc.columns:\n",
        "            df_cdc[col] = pd.to_numeric(df_cdc[col], errors='coerce')\n",
        "    df_cdc = df_cdc.rename(columns={\n",
        "        'recip_county':'County','recip_state':'State',\n",
        "        'series_complete_pop_pct':'PctFullyVaccinated',\n",
        "        'census2019':'CDC_Pop_Est_2019'\n",
        "    })\n",
        "    df_cdc.dropna(subset=['County','State'],inplace=True)\n",
        "    df_cdc['County'] = df_cdc['County'].str.strip().str.lower()\n",
        "    df_cdc['State']  = df_cdc['State'].str.strip().str.upper()\n",
        "\n",
        "    df_census = df_census.rename(columns={\n",
        "        'county_col':'County','state_col':'State','pop_col':'LocalPop'\n",
        "    })\n",
        "    df_census.dropna(subset=['County','State'],inplace=True)\n",
        "    df_census['County'] = df_census['County'].str.strip().str.lower()\n",
        "    df_census['State']  = df_census['State'].str.strip().str.upper()\n",
        "\n",
        "    df_merged = pd.merge(df_cdc, df_census, on=['County','State'], how='inner')\n",
        "    df_merged['PopDifference'] = df_merged['CDC_Pop_Est_2019'] - df_merged['LocalPop']\n",
        "    df_merged['VaccinationRateVsLocalPop'] = df_merged['PctFullyVaccinated'] * df_merged['LocalPop']/100.0\n",
        "    return df_merged"
      ],
      "metadata": {
        "id": "frW30CtZSSVj"
      },
      "execution_count": null,
      "outputs": []
    },
    {
      "cell_type": "code",
      "source": [
        "def analyze_data(df_merged):\n",
        "    \"\"\"Stats, correlations, and scatter plot.\"\"\"\n",
        "    print(\"Records:\", len(df_merged), \"| Columns:\", len(df_merged.columns))\n",
        "    print(df_merged.head(5))\n",
        "    numeric_cols = ['PctFullyVaccinated','CDC_Pop_Est_2019','LocalPop','VaccinationRateVsLocalPop']\n",
        "    print(\"\\nSummary:\\n\", df_merged[numeric_cols].describe())\n",
        "    print(\"\\nCorrelation:\\n\", df_merged[numeric_cols].corr())\n",
        "\n",
        "    plt.figure(figsize=(7,5))\n",
        "    plt.scatter(df_merged['LocalPop'], df_merged['PctFullyVaccinated'], alpha=0.3)\n",
        "    plt.title(\"Vaccination Rate vs Local Population\")\n",
        "    plt.xlabel(\"Local Population\")\n",
        "    plt.ylabel(\"Pct Fully Vaccinated\")\n",
        "    plt.tight_layout()\n",
        "    plt.savefig(\"vaccination_rate_vs_population.png\")\n",
        "    print(\"\\nPlot saved: vaccination_rate_vs_population.png\")"
      ],
      "metadata": {
        "id": "DSLNoHZvSULu"
      },
      "execution_count": null,
      "outputs": []
    },
    {
      "cell_type": "code",
      "source": [
        "def store_data_in_mysql(final_df):\n",
        "    \"\"\"Create table & insert rows in MySQL.\"\"\"\n",
        "    try:\n",
        "        conn = mysql.connector.connect(\n",
        "            host=\"host1\",\n",
        "            user=\"user1\",\n",
        "            password=\"coolpassword\",\n",
        "            database=\"ETL_pipeline_database\"\n",
        "        )\n",
        "        cur = conn.cursor()\n",
        "    except mysql.connector.Error as err:\n",
        "        print(\"ERROR: MySQL connect failed.\", err)\n",
        "        sys.exit(1)\n",
        "\n",
        "    create_tbl = \"\"\"\n",
        "        CREATE TABLE IF NOT EXISTS cdc_vaccination_counties (\n",
        "            id INT AUTO_INCREMENT PRIMARY KEY,\n",
        "            county VARCHAR(100),\n",
        "            state VARCHAR(10),\n",
        "            pct_fully_vaccinated DOUBLE,\n",
        "            cdc_pop_est_2019 DOUBLE,\n",
        "            localpop DOUBLE,\n",
        "            popdifference DOUBLE,\n",
        "            vaccinationratevslocalpop DOUBLE\n",
        "        );\n",
        "    \"\"\"\n",
        "    try:\n",
        "        cur.execute(\"DROP TABLE IF EXISTS cdc_vaccination_counties;\")\n",
        "        cur.execute(create_tbl)\n",
        "    except mysql.connector.Error as err:\n",
        "        print(\"ERROR: Table creation failed.\", err)\n",
        "        conn.close()\n",
        "        sys.exit(1)\n",
        "\n",
        "    insert_q = \"\"\"\n",
        "        INSERT INTO cdc_vaccination_counties\n",
        "        (county, state, pct_fully_vaccinated, cdc_pop_est_2019, localpop,\n",
        "         popdifference, vaccinationratevslocalpop)\n",
        "        VALUES (%s, %s, %s, %s, %s, %s, %s);\n",
        "    \"\"\"\n",
        "    rows = []\n",
        "    for _, row in final_df.iterrows():\n",
        "        rows.append((\n",
        "            row.get(\"County\"), row.get(\"State\"), row.get(\"PctFullyVaccinated\"),\n",
        "            row.get(\"CDC_Pop_Est_2019\"), row.get(\"LocalPop\"),\n",
        "            row.get(\"PopDifference\"), row.get(\"VaccinationRateVsLocalPop\")\n",
        "        ))\n",
        "    try:\n",
        "        cur.executemany(insert_q, rows)\n",
        "        conn.commit()\n",
        "        print(\"Inserted:\", cur.rowcount, \"rows.\")\n",
        "    except mysql.connector.Error as err:\n",
        "        print(\"ERROR: Insert failed.\", err)\n",
        "        conn.close()\n",
        "        sys.exit(1)\n",
        "\n",
        "    cur.close()\n",
        "    conn.close()"
      ],
      "metadata": {
        "id": "QNk3SLFNSXOW"
      },
      "execution_count": null,
      "outputs": []
    },
    {
      "cell_type": "code",
      "source": [
        "def main():\n",
        "    print(\"Extracting CDC data with offset-based paging...\")\n",
        "    df_cdc = extract_cdc_vaccination_data()\n",
        "    print(\"Loading local census CSV...\")\n",
        "    csv_path = \"/content/co-est2023-alldata.csv\"\n",
        "    df_census = load_census_population_data(csv_path)\n",
        "    print(\"Transform & merge...\")\n",
        "    df_merged = transform_data(df_cdc, df_census)\n",
        "    print(\"Analyze data...\")\n",
        "    analyze_data(df_merged)\n",
        "    print(\"Store in MySQL...\")\n",
        "    store_data_in_mysql(df_merged)\n",
        "    print(\"ETL complete.\")\n",
        "\n",
        "if __name__ == \"__main__\":\n",
        "    main()"
      ],
      "metadata": {
        "id": "bnebWDdMSdhG"
      },
      "execution_count": null,
      "outputs": []
    }
  ]
}